{
 "cells": [
  {
   "cell_type": "markdown",
   "id": "17a8f81c-ca6c-40ca-9e1a-c4da637ac86e",
   "metadata": {},
   "source": [
    "# Summmary quiz"
   ]
  },
  {
   "cell_type": "code",
   "execution_count": 7,
   "id": "e7974ed6-a6f2-4be0-a17e-f9b0681d24ca",
   "metadata": {},
   "outputs": [],
   "source": [
    "from jupyterquiz import display_quiz"
   ]
  },
  {
   "cell_type": "code",
   "execution_count": null,
   "id": "7e89c1fb-7f4c-494a-8173-1feed6649fbb",
   "metadata": {},
   "outputs": [],
   "source": [
    "display_quiz(\"docs/questions/summary_quiz.json\")"
   ]
  },
  {
   "cell_type": "code",
   "execution_count": null,
   "id": "232400f9-291f-468e-bfb6-9210852884b2",
   "metadata": {},
   "outputs": [],
   "source": []
  }
 ],
 "metadata": {
  "kernelspec": {
   "display_name": "python3.9",
   "language": "python",
   "name": "python3.9"
  },
  "language_info": {
   "codemirror_mode": {
    "name": "ipython",
    "version": 3
   },
   "file_extension": ".py",
   "mimetype": "text/x-python",
   "name": "python",
   "nbconvert_exporter": "python",
   "pygments_lexer": "ipython3",
   "version": "3.10.6"
  }
 },
 "nbformat": 4,
 "nbformat_minor": 5
}
