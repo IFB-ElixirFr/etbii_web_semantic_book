{
 "cells": [
  {
   "cell_type": "markdown",
   "id": "17a8f81c-ca6c-40ca-9e1a-c4da637ac86e",
   "metadata": {},
   "source": [
    "# Use cytoscape"
   ]
  },
  {
   "cell_type": "code",
   "execution_count": 1,
   "id": "7b582f89-3879-426d-9601-40f21c94234b",
   "metadata": {},
   "outputs": [],
   "source": [
    "import rdflib\n",
    "from SPARQLWrapper import SPARQLWrapper, JSON, TURTLE"
   ]
  },
  {
   "cell_type": "code",
   "execution_count": 2,
   "id": "7e89c1fb-7f4c-494a-8173-1feed6649fbb",
   "metadata": {},
   "outputs": [
    {
     "name": "stdout",
     "output_type": "stream",
     "text": [
      "[{'P1': {'type': 'uri', 'value': 'http://purl.uniprot.org/uniprot/Q14524'}, 'nb_expe': {'datatype': 'http://www.w3.org/2001/XMLSchema#int', 'type': 'literal', 'value': '3'}, 'P2': {'type': 'uri', 'value': 'http://purl.uniprot.org/uniprot/Q14524'}, 'org': {'type': 'uri', 'value': 'http://purl.uniprot.org/taxonomy/9606'}, 'P2_label': {'type': 'literal', 'value': 'SCN5A_HUMAN'}, 'interaction': {'type': 'uri', 'value': 'http://purl.uniprot.org/intact/11524452-14276801'}, 'P1_label': {'type': 'literal', 'value': 'SCN5A_HUMAN'}}, {'P1': {'type': 'uri', 'value': 'http://purl.uniprot.org/uniprot/Q14524'}, 'nb_expe': {'datatype': 'http://www.w3.org/2001/XMLSchema#int', 'type': 'literal', 'value': '3'}, 'P2': {'type': 'uri', 'value': 'http://purl.uniprot.org/uniprot/Q8N9N5'}, 'org': {'type': 'uri', 'value': 'http://purl.uniprot.org/taxonomy/9606'}, 'P2_label': {'type': 'literal', 'value': 'BANP_HUMAN'}, 'interaction': {'type': 'uri', 'value': 'http://purl.uniprot.org/intact/11524452-14276801'}, 'P1_label': {'type': 'literal', 'value': 'SCN5A_HUMAN'}}, {'P1': {'type': 'uri', 'value': 'http://purl.uniprot.org/uniprot/Q14524'}, 'nb_expe': {'datatype': 'http://www.w3.org/2001/XMLSchema#int', 'type': 'literal', 'value': '3'}, 'P2': {'type': 'uri', 'value': 'http://purl.uniprot.org/uniprot/Q9Y3B6'}, 'org': {'type': 'uri', 'value': 'http://purl.uniprot.org/taxonomy/9606'}, 'P2_label': {'type': 'literal', 'value': 'EMC9_HUMAN'}, 'interaction': {'type': 'uri', 'value': 'http://purl.uniprot.org/intact/748366-14276801'}, 'P1_label': {'type': 'literal', 'value': 'SCN5A_HUMAN'}}, {'P1': {'type': 'uri', 'value': 'http://purl.uniprot.org/uniprot/Q14524'}, 'nb_expe': {'datatype': 'http://www.w3.org/2001/XMLSchema#int', 'type': 'literal', 'value': '3'}, 'P2': {'type': 'uri', 'value': 'http://purl.uniprot.org/uniprot/Q14524'}, 'org': {'type': 'uri', 'value': 'http://purl.uniprot.org/taxonomy/9606'}, 'P2_label': {'type': 'literal', 'value': 'SCN5A_HUMAN'}, 'interaction': {'type': 'uri', 'value': 'http://purl.uniprot.org/intact/748366-14276801'}, 'P1_label': {'type': 'literal', 'value': 'SCN5A_HUMAN'}}, {'P1': {'type': 'uri', 'value': 'http://purl.uniprot.org/uniprot/Q14524'}, 'nb_expe': {'datatype': 'http://www.w3.org/2001/XMLSchema#int', 'type': 'literal', 'value': '4'}, 'P2': {'type': 'uri', 'value': 'http://purl.uniprot.org/uniprot/Q14524'}, 'org': {'type': 'uri', 'value': 'http://purl.uniprot.org/taxonomy/9606'}, 'P2_label': {'type': 'literal', 'value': 'SCN5A_HUMAN'}, 'interaction': {'type': 'uri', 'value': 'http://purl.uniprot.org/intact/726858-10699759'}, 'P1_label': {'type': 'literal', 'value': 'SCN5A_HUMAN'}}, {'P1': {'type': 'uri', 'value': 'http://purl.uniprot.org/uniprot/Q14524'}, 'nb_expe': {'datatype': 'http://www.w3.org/2001/XMLSchema#int', 'type': 'literal', 'value': '4'}, 'P2': {'type': 'uri', 'value': 'http://purl.uniprot.org/uniprot/P61328'}, 'org': {'type': 'uri', 'value': 'http://purl.uniprot.org/taxonomy/9606'}, 'P2_label': {'type': 'literal', 'value': 'FGF12_HUMAN'}, 'interaction': {'type': 'uri', 'value': 'http://purl.uniprot.org/intact/726858-10699759'}, 'P1_label': {'type': 'literal', 'value': 'SCN5A_HUMAN'}}, {'P1': {'type': 'uri', 'value': 'http://purl.uniprot.org/uniprot/Q14524'}, 'nb_expe': {'datatype': 'http://www.w3.org/2001/XMLSchema#int', 'type': 'literal', 'value': '16'}, 'P2': {'type': 'uri', 'value': 'http://purl.uniprot.org/uniprot/Q14524'}, 'org': {'type': 'uri', 'value': 'http://purl.uniprot.org/taxonomy/9606'}, 'P2_label': {'type': 'literal', 'value': 'SCN5A_HUMAN'}, 'interaction': {'type': 'uri', 'value': 'http://purl.uniprot.org/intact/351018-726858'}, 'P1_label': {'type': 'literal', 'value': 'SCN5A_HUMAN'}}, {'P1': {'type': 'uri', 'value': 'http://purl.uniprot.org/uniprot/Q14524'}, 'nb_expe': {'datatype': 'http://www.w3.org/2001/XMLSchema#int', 'type': 'literal', 'value': '16'}, 'P2': {'type': 'uri', 'value': 'http://purl.uniprot.org/uniprot/Q13557'}, 'org': {'type': 'uri', 'value': 'http://purl.uniprot.org/taxonomy/9606'}, 'P2_label': {'type': 'literal', 'value': 'KCC2D_HUMAN'}, 'interaction': {'type': 'uri', 'value': 'http://purl.uniprot.org/intact/351018-726858'}, 'P1_label': {'type': 'literal', 'value': 'SCN5A_HUMAN'}}, {'P1': {'type': 'uri', 'value': 'http://purl.uniprot.org/uniprot/Q14524'}, 'nb_expe': {'datatype': 'http://www.w3.org/2001/XMLSchema#int', 'type': 'literal', 'value': '2'}, 'P2': {'type': 'uri', 'value': 'http://purl.uniprot.org/uniprot/P26045'}, 'org': {'type': 'uri', 'value': 'http://purl.uniprot.org/taxonomy/9606'}, 'P2_label': {'type': 'literal', 'value': 'PTN3_HUMAN'}, 'interaction': {'type': 'uri', 'value': 'http://purl.uniprot.org/intact/726858-1047946'}, 'P1_label': {'type': 'literal', 'value': 'SCN5A_HUMAN'}}, {'P1': {'type': 'uri', 'value': 'http://purl.uniprot.org/uniprot/Q14524'}, 'nb_expe': {'datatype': 'http://www.w3.org/2001/XMLSchema#int', 'type': 'literal', 'value': '2'}, 'P2': {'type': 'uri', 'value': 'http://purl.uniprot.org/uniprot/Q14524'}, 'org': {'type': 'uri', 'value': 'http://purl.uniprot.org/taxonomy/9606'}, 'P2_label': {'type': 'literal', 'value': 'SCN5A_HUMAN'}, 'interaction': {'type': 'uri', 'value': 'http://purl.uniprot.org/intact/726858-1047946'}, 'P1_label': {'type': 'literal', 'value': 'SCN5A_HUMAN'}}]\n",
      "SCN5A_HUMAN <-> SCN5A_HUMAN in 3 experiments.\n",
      "SCN5A_HUMAN <-> BANP_HUMAN in 3 experiments.\n",
      "SCN5A_HUMAN <-> EMC9_HUMAN in 3 experiments.\n",
      "SCN5A_HUMAN <-> SCN5A_HUMAN in 3 experiments.\n",
      "SCN5A_HUMAN <-> SCN5A_HUMAN in 4 experiments.\n",
      "SCN5A_HUMAN <-> FGF12_HUMAN in 4 experiments.\n",
      "SCN5A_HUMAN <-> SCN5A_HUMAN in 16 experiments.\n",
      "SCN5A_HUMAN <-> KCC2D_HUMAN in 16 experiments.\n",
      "SCN5A_HUMAN <-> PTN3_HUMAN in 2 experiments.\n",
      "SCN5A_HUMAN <-> SCN5A_HUMAN in 2 experiments.\n"
     ]
    },
    {
     "data": {
      "text/plain": [
       "['SCN5A',\n",
       " 'SCN5A',\n",
       " 'BANP',\n",
       " 'EMC9',\n",
       " 'SCN5A',\n",
       " 'SCN5A',\n",
       " 'FGF12',\n",
       " 'SCN5A',\n",
       " 'KCC2D',\n",
       " 'PTN3',\n",
       " 'SCN5A']"
      ]
     },
     "execution_count": 2,
     "metadata": {},
     "output_type": "execute_result"
    }
   ],
   "source": [
    "uniprot_query = \"\"\"\n",
    "PREFIX rdf: <http://www.w3.org/1999/02/22-rdf-syntax-ns#>\n",
    "PREFIX rdfs:<http://www.w3.org/2000/01/rdf-schema#>\n",
    "PREFIX owl: <http://www.w3.org/2002/07/owl#>\n",
    "PREFIX xsd: <http://www.w3.org/2001/XMLSchema#>\n",
    "PREFIX dc: <http://purl.org/dc/elements/1.1/>\n",
    "PREFIX dcterms: <http://purl.org/dc/terms/>\n",
    "\n",
    "PREFIX taxon: <http://purl.uniprot.org/taxonomy/>\n",
    "PREFIX uniprot: <http://purl.uniprot.org/uniprot/>\n",
    "PREFIX up:<http://purl.uniprot.org/core/>\n",
    "\n",
    "SELECT * WHERE {\n",
    "    VALUES ?P1 {uniprot:Q14524}\n",
    "    ?P1 up:mnemonic ?P1_label .\n",
    "    ?P1 up:organism ?org .\n",
    "    ?P1 up:interaction ?interaction .\n",
    "    ?P2 up:interaction ?interaction .\n",
    "    ?P2 up:mnemonic ?P2_label .\n",
    "    ?interaction up:experiments ?nb_expe\n",
    "    # FILTER (?P2 != ?P1)\n",
    "} limit 10\n",
    "\n",
    "\"\"\"\n",
    "\n",
    "sparql = SPARQLWrapper(\"http://sparql.uniprot.org/sparql/\")\n",
    "sparql.setQuery(uniprot_query)\n",
    "sparql.setReturnFormat(JSON)\n",
    "results = sparql.query().convert()\n",
    "print(results['results']['bindings'])\n",
    "\n",
    "list_of_genes = [\"SCN5A\"]\n",
    "for r in results['results']['bindings']:\n",
    "    print(f\"{r['P1_label']['value']} <-> {r['P2_label']['value']} in {r['nb_expe']['value']} experiments.\")\n",
    "    # print(f\"r\")\n",
    "    list_of_genes.append(r['P2_label']['value'].split(\"_HUMAN\")[0])\n",
    "\n",
    "list_of_genes"
   ]
  },
  {
   "cell_type": "code",
   "execution_count": 3,
   "id": "232400f9-291f-468e-bfb6-9210852884b2",
   "metadata": {},
   "outputs": [
    {
     "data": {
      "image/png": "[encoded data removed]",
      "text/plain": [
       "<Figure size 640x480 with 1 Axes>"
      ]
     },
     "metadata": {},
     "output_type": "display_data"
    }
   ],
   "source": [
    "import networkx as nx\n",
    "from matplotlib import pyplot as plt\n",
    "\n",
    "G = nx.Graph()\n",
    "\n",
    "for r in results['results']['bindings']:\n",
    "    G.add_edge(r['P1_label']['value'], r['P2_label']['value'], nbExperiments = r['nb_expe']['value'])\n",
    "\n",
    "nx.draw(G, with_labels= True)\n",
    "plt.show()   "
   ]
  },
  {
   "cell_type": "code",
   "execution_count": 4,
   "id": "b59b53ed-35b5-4a93-830c-87d2869aa518",
   "metadata": {},
   "outputs": [
    {
     "name": "stdout",
     "output_type": "stream",
     "text": [
      "Defaulting to user installation because normal site-packages is not writeable\n",
      "Requirement already satisfied: ipycytoscape in /shared/ifbstor1/home/tdenecker/.local/lib/python3.9/site-packages (1.3.3)\n",
      "Requirement already satisfied: ipywidgets>=7.6.0 in /shared/ifbstor1/software/jupyterhub/lib/python3.9/site-packages (from ipycytoscape) (7.6.5)\n",
      "Requirement already satisfied: spectate>=1.0.0 in /shared/ifbstor1/home/tdenecker/.local/lib/python3.9/site-packages (from ipycytoscape) (1.0.1)\n",
      "Requirement already satisfied: ipython>=4.0.0 in /shared/ifbstor1/software/jupyterhub/lib/python3.9/site-packages (from ipywidgets>=7.6.0->ipycytoscape) (7.29.0)\n",
      "Requirement already satisfied: ipykernel>=4.5.1 in /shared/ifbstor1/software/jupyterhub/lib/python3.9/site-packages (from ipywidgets>=7.6.0->ipycytoscape) (6.4.2)\n",
      "Requirement already satisfied: jupyterlab-widgets>=1.0.0 in /shared/ifbstor1/software/jupyterhub/lib/python3.9/site-packages (from ipywidgets>=7.6.0->ipycytoscape) (1.0.2)\n",
      "Requirement already satisfied: traitlets>=4.3.1 in /shared/ifbstor1/software/jupyterhub/lib/python3.9/site-packages (from ipywidgets>=7.6.0->ipycytoscape) (5.1.1)\n",
      "Requirement already satisfied: nbformat>=4.2.0 in /shared/ifbstor1/software/jupyterhub/lib/python3.9/site-packages (from ipywidgets>=7.6.0->ipycytoscape) (5.1.3)\n",
      "Requirement already satisfied: widgetsnbextension~=3.5.0 in /shared/ifbstor1/software/jupyterhub/lib/python3.9/site-packages (from ipywidgets>=7.6.0->ipycytoscape) (3.5.2)\n",
      "Requirement already satisfied: ipython-genutils~=0.2.0 in /shared/ifbstor1/software/jupyterhub/lib/python3.9/site-packages (from ipywidgets>=7.6.0->ipycytoscape) (0.2.0)\n",
      "Requirement already satisfied: debugpy<2.0,>=1.0.0 in /shared/ifbstor1/software/jupyterhub/lib/python3.9/site-packages (from ipykernel>=4.5.1->ipywidgets>=7.6.0->ipycytoscape) (1.4.1)\n",
      "Requirement already satisfied: tornado<7.0,>=4.2 in /shared/ifbstor1/software/jupyterhub/lib/python3.9/site-packages (from ipykernel>=4.5.1->ipywidgets>=7.6.0->ipycytoscape) (6.1)\n",
      "Requirement already satisfied: jupyter-client<8.0 in /shared/ifbstor1/software/jupyterhub/lib/python3.9/site-packages (from ipykernel>=4.5.1->ipywidgets>=7.6.0->ipycytoscape) (7.0.6)\n",
      "Requirement already satisfied: matplotlib-inline<0.2.0,>=0.1.0 in /shared/ifbstor1/software/jupyterhub/lib/python3.9/site-packages (from ipykernel>=4.5.1->ipywidgets>=7.6.0->ipycytoscape) (0.1.3)\n",
      "Requirement already satisfied: backcall in /shared/ifbstor1/software/jupyterhub/lib/python3.9/site-packages (from ipython>=4.0.0->ipywidgets>=7.6.0->ipycytoscape) (0.2.0)\n",
      "Requirement already satisfied: setuptools>=18.5 in /shared/ifbstor1/software/jupyterhub/lib/python3.9/site-packages (from ipython>=4.0.0->ipywidgets>=7.6.0->ipycytoscape) (58.4.0)\n",
      "Requirement already satisfied: decorator in /shared/ifbstor1/software/jupyterhub/lib/python3.9/site-packages (from ipython>=4.0.0->ipywidgets>=7.6.0->ipycytoscape) (5.1.0)\n",
      "Requirement already satisfied: pexpect>4.3 in /shared/ifbstor1/software/jupyterhub/lib/python3.9/site-packages (from ipython>=4.0.0->ipywidgets>=7.6.0->ipycytoscape) (4.8.0)\n",
      "Requirement already satisfied: pygments in /shared/ifbstor1/software/jupyterhub/lib/python3.9/site-packages (from ipython>=4.0.0->ipywidgets>=7.6.0->ipycytoscape) (2.10.0)\n",
      "Requirement already satisfied: jedi>=0.16 in /shared/ifbstor1/software/jupyterhub/lib/python3.9/site-packages (from ipython>=4.0.0->ipywidgets>=7.6.0->ipycytoscape) (0.18.0)\n",
      "Requirement already satisfied: pickleshare in /shared/ifbstor1/software/jupyterhub/lib/python3.9/site-packages (from ipython>=4.0.0->ipywidgets>=7.6.0->ipycytoscape) (0.7.5)\n",
      "Requirement already satisfied: prompt-toolkit!=3.0.0,!=3.0.1,<3.1.0,>=2.0.0 in /shared/ifbstor1/software/jupyterhub/lib/python3.9/site-packages (from ipython>=4.0.0->ipywidgets>=7.6.0->ipycytoscape) (3.0.21)\n",
      "Requirement already satisfied: jsonschema!=2.5.0,>=2.4 in /shared/ifbstor1/software/jupyterhub/lib/python3.9/site-packages (from nbformat>=4.2.0->ipywidgets>=7.6.0->ipycytoscape) (4.1.2)\n",
      "Requirement already satisfied: jupyter-core in /shared/ifbstor1/software/jupyterhub/lib/python3.9/site-packages (from nbformat>=4.2.0->ipywidgets>=7.6.0->ipycytoscape) (4.9.1)\n",
      "Requirement already satisfied: notebook>=4.4.1 in /shared/ifbstor1/software/jupyterhub/lib/python3.9/site-packages (from widgetsnbextension~=3.5.0->ipywidgets>=7.6.0->ipycytoscape) (6.4.5)\n",
      "Requirement already satisfied: parso<0.9.0,>=0.8.0 in /shared/ifbstor1/software/jupyterhub/lib/python3.9/site-packages (from jedi>=0.16->ipython>=4.0.0->ipywidgets>=7.6.0->ipycytoscape) (0.8.2)\n",
      "Requirement already satisfied: pyrsistent!=0.17.0,!=0.17.1,!=0.17.2,>=0.14.0 in /shared/ifbstor1/software/jupyterhub/lib/python3.9/site-packages (from jsonschema!=2.5.0,>=2.4->nbformat>=4.2.0->ipywidgets>=7.6.0->ipycytoscape) (0.17.3)\n",
      "Requirement already satisfied: attrs>=17.4.0 in /shared/ifbstor1/software/jupyterhub/lib/python3.9/site-packages (from jsonschema!=2.5.0,>=2.4->nbformat>=4.2.0->ipywidgets>=7.6.0->ipycytoscape) (21.2.0)\n",
      "Requirement already satisfied: nest-asyncio>=1.5 in /shared/ifbstor1/software/jupyterhub/lib/python3.9/site-packages (from jupyter-client<8.0->ipykernel>=4.5.1->ipywidgets>=7.6.0->ipycytoscape) (1.5.1)\n",
      "Requirement already satisfied: pyzmq>=13 in /shared/ifbstor1/software/jupyterhub/lib/python3.9/site-packages (from jupyter-client<8.0->ipykernel>=4.5.1->ipywidgets>=7.6.0->ipycytoscape) (22.3.0)\n",
      "Requirement already satisfied: entrypoints in /shared/ifbstor1/software/jupyterhub/lib/python3.9/site-packages (from jupyter-client<8.0->ipykernel>=4.5.1->ipywidgets>=7.6.0->ipycytoscape) (0.3)\n",
      "Requirement already satisfied: python-dateutil>=2.1 in /shared/ifbstor1/software/jupyterhub/lib/python3.9/site-packages (from jupyter-client<8.0->ipykernel>=4.5.1->ipywidgets>=7.6.0->ipycytoscape) (2.8.2)\n",
      "Requirement already satisfied: nbconvert in /shared/ifbstor1/software/jupyterhub/lib/python3.9/site-packages (from notebook>=4.4.1->widgetsnbextension~=3.5.0->ipywidgets>=7.6.0->ipycytoscape) (6.2.0)\n",
      "Requirement already satisfied: Send2Trash>=1.5.0 in /shared/ifbstor1/software/jupyterhub/lib/python3.9/site-packages (from notebook>=4.4.1->widgetsnbextension~=3.5.0->ipywidgets>=7.6.0->ipycytoscape) (1.8.0)\n",
      "Requirement already satisfied: jinja2 in /shared/ifbstor1/software/jupyterhub/lib/python3.9/site-packages (from notebook>=4.4.1->widgetsnbextension~=3.5.0->ipywidgets>=7.6.0->ipycytoscape) (3.0.2)\n",
      "Requirement already satisfied: prometheus-client in /shared/ifbstor1/software/jupyterhub/lib/python3.9/site-packages (from notebook>=4.4.1->widgetsnbextension~=3.5.0->ipywidgets>=7.6.0->ipycytoscape) (0.12.0)\n",
      "Requirement already satisfied: terminado>=0.8.3 in /shared/ifbstor1/software/jupyterhub/lib/python3.9/site-packages (from notebook>=4.4.1->widgetsnbextension~=3.5.0->ipywidgets>=7.6.0->ipycytoscape) (0.12.1)\n",
      "Requirement already satisfied: argon2-cffi in /shared/ifbstor1/software/jupyterhub/lib/python3.9/site-packages (from notebook>=4.4.1->widgetsnbextension~=3.5.0->ipywidgets>=7.6.0->ipycytoscape) (21.1.0)\n",
      "Requirement already satisfied: ptyprocess>=0.5 in /shared/ifbstor1/software/jupyterhub/lib/python3.9/site-packages (from pexpect>4.3->ipython>=4.0.0->ipywidgets>=7.6.0->ipycytoscape) (0.7.0)\n",
      "Requirement already satisfied: wcwidth in /shared/ifbstor1/software/jupyterhub/lib/python3.9/site-packages (from prompt-toolkit!=3.0.0,!=3.0.1,<3.1.0,>=2.0.0->ipython>=4.0.0->ipywidgets>=7.6.0->ipycytoscape) (0.2.5)\n",
      "Requirement already satisfied: six>=1.5 in /shared/ifbstor1/software/jupyterhub/lib/python3.9/site-packages (from python-dateutil>=2.1->jupyter-client<8.0->ipykernel>=4.5.1->ipywidgets>=7.6.0->ipycytoscape) (1.16.0)\n",
      "Requirement already satisfied: cffi>=1.0.0 in /shared/ifbstor1/software/jupyterhub/lib/python3.9/site-packages (from argon2-cffi->notebook>=4.4.1->widgetsnbextension~=3.5.0->ipywidgets>=7.6.0->ipycytoscape) (1.14.6)\n",
      "Requirement already satisfied: MarkupSafe>=2.0 in /shared/ifbstor1/software/jupyterhub/lib/python3.9/site-packages (from jinja2->notebook>=4.4.1->widgetsnbextension~=3.5.0->ipywidgets>=7.6.0->ipycytoscape) (2.0.1)\n",
      "Requirement already satisfied: testpath in /shared/ifbstor1/software/jupyterhub/lib/python3.9/site-packages (from nbconvert->notebook>=4.4.1->widgetsnbextension~=3.5.0->ipywidgets>=7.6.0->ipycytoscape) (0.5.0)\n",
      "Requirement already satisfied: bleach in /shared/ifbstor1/software/jupyterhub/lib/python3.9/site-packages (from nbconvert->notebook>=4.4.1->widgetsnbextension~=3.5.0->ipywidgets>=7.6.0->ipycytoscape) (4.1.0)\n",
      "Requirement already satisfied: pandocfilters>=1.4.1 in /shared/ifbstor1/software/jupyterhub/lib/python3.9/site-packages (from nbconvert->notebook>=4.4.1->widgetsnbextension~=3.5.0->ipywidgets>=7.6.0->ipycytoscape) (1.5.0)\n",
      "Requirement already satisfied: nbclient<0.6.0,>=0.5.0 in /shared/ifbstor1/software/jupyterhub/lib/python3.9/site-packages (from nbconvert->notebook>=4.4.1->widgetsnbextension~=3.5.0->ipywidgets>=7.6.0->ipycytoscape) (0.5.4)\n",
      "Requirement already satisfied: jupyterlab-pygments in /shared/ifbstor1/software/jupyterhub/lib/python3.9/site-packages (from nbconvert->notebook>=4.4.1->widgetsnbextension~=3.5.0->ipywidgets>=7.6.0->ipycytoscape) (0.1.2)\n",
      "Requirement already satisfied: mistune<2,>=0.8.1 in /shared/ifbstor1/software/jupyterhub/lib/python3.9/site-packages (from nbconvert->notebook>=4.4.1->widgetsnbextension~=3.5.0->ipywidgets>=7.6.0->ipycytoscape) (0.8.4)\n",
      "Requirement already satisfied: defusedxml in /shared/ifbstor1/software/jupyterhub/lib/python3.9/site-packages (from nbconvert->notebook>=4.4.1->widgetsnbextension~=3.5.0->ipywidgets>=7.6.0->ipycytoscape) (0.7.1)\n",
      "Requirement already satisfied: pycparser in /shared/ifbstor1/software/jupyterhub/lib/python3.9/site-packages (from cffi>=1.0.0->argon2-cffi->notebook>=4.4.1->widgetsnbextension~=3.5.0->ipywidgets>=7.6.0->ipycytoscape) (2.20)\n",
      "Requirement already satisfied: packaging in /shared/ifbstor1/software/jupyterhub/lib/python3.9/site-packages (from bleach->nbconvert->notebook>=4.4.1->widgetsnbextension~=3.5.0->ipywidgets>=7.6.0->ipycytoscape) (21.0)\n",
      "Requirement already satisfied: webencodings in /shared/ifbstor1/software/jupyterhub/lib/python3.9/site-packages (from bleach->nbconvert->notebook>=4.4.1->widgetsnbextension~=3.5.0->ipywidgets>=7.6.0->ipycytoscape) (0.5.1)\n",
      "Requirement already satisfied: pyparsing>=2.0.2 in /shared/ifbstor1/software/jupyterhub/lib/python3.9/site-packages (from packaging->bleach->nbconvert->notebook>=4.4.1->widgetsnbextension~=3.5.0->ipywidgets>=7.6.0->ipycytoscape) (3.0.4)\n",
      "Defaulting to user installation because normal site-packages is not writeable\n",
      "Requirement already satisfied: ipywidgets in /shared/ifbstor1/software/jupyterhub/lib/python3.9/site-packages (7.6.5)\n",
      "Requirement already satisfied: ipykernel>=4.5.1 in /shared/ifbstor1/software/jupyterhub/lib/python3.9/site-packages (from ipywidgets) (6.4.2)\n",
      "Requirement already satisfied: traitlets>=4.3.1 in /shared/ifbstor1/software/jupyterhub/lib/python3.9/site-packages (from ipywidgets) (5.1.1)\n",
      "Requirement already satisfied: jupyterlab-widgets>=1.0.0 in /shared/ifbstor1/software/jupyterhub/lib/python3.9/site-packages (from ipywidgets) (1.0.2)\n",
      "Requirement already satisfied: nbformat>=4.2.0 in /shared/ifbstor1/software/jupyterhub/lib/python3.9/site-packages (from ipywidgets) (5.1.3)\n",
      "Requirement already satisfied: widgetsnbextension~=3.5.0 in /shared/ifbstor1/software/jupyterhub/lib/python3.9/site-packages (from ipywidgets) (3.5.2)\n",
      "Requirement already satisfied: ipython-genutils~=0.2.0 in /shared/ifbstor1/software/jupyterhub/lib/python3.9/site-packages (from ipywidgets) (0.2.0)\n",
      "Requirement already satisfied: ipython>=4.0.0 in /shared/ifbstor1/software/jupyterhub/lib/python3.9/site-packages (from ipywidgets) (7.29.0)\n",
      "Requirement already satisfied: tornado<7.0,>=4.2 in /shared/ifbstor1/software/jupyterhub/lib/python3.9/site-packages (from ipykernel>=4.5.1->ipywidgets) (6.1)\n",
      "Requirement already satisfied: matplotlib-inline<0.2.0,>=0.1.0 in /shared/ifbstor1/software/jupyterhub/lib/python3.9/site-packages (from ipykernel>=4.5.1->ipywidgets) (0.1.3)\n",
      "Requirement already satisfied: jupyter-client<8.0 in /shared/ifbstor1/software/jupyterhub/lib/python3.9/site-packages (from ipykernel>=4.5.1->ipywidgets) (7.0.6)\n",
      "Requirement already satisfied: debugpy<2.0,>=1.0.0 in /shared/ifbstor1/software/jupyterhub/lib/python3.9/site-packages (from ipykernel>=4.5.1->ipywidgets) (1.4.1)\n",
      "Requirement already satisfied: jedi>=0.16 in /shared/ifbstor1/software/jupyterhub/lib/python3.9/site-packages (from ipython>=4.0.0->ipywidgets) (0.18.0)\n",
      "Requirement already satisfied: pexpect>4.3 in /shared/ifbstor1/software/jupyterhub/lib/python3.9/site-packages (from ipython>=4.0.0->ipywidgets) (4.8.0)\n",
      "Requirement already satisfied: pygments in /shared/ifbstor1/software/jupyterhub/lib/python3.9/site-packages (from ipython>=4.0.0->ipywidgets) (2.10.0)\n",
      "Requirement already satisfied: backcall in /shared/ifbstor1/software/jupyterhub/lib/python3.9/site-packages (from ipython>=4.0.0->ipywidgets) (0.2.0)\n",
      "Requirement already satisfied: setuptools>=18.5 in /shared/ifbstor1/software/jupyterhub/lib/python3.9/site-packages (from ipython>=4.0.0->ipywidgets) (58.4.0)\n",
      "Requirement already satisfied: prompt-toolkit!=3.0.0,!=3.0.1,<3.1.0,>=2.0.0 in /shared/ifbstor1/software/jupyterhub/lib/python3.9/site-packages (from ipython>=4.0.0->ipywidgets) (3.0.21)\n",
      "Requirement already satisfied: decorator in /shared/ifbstor1/software/jupyterhub/lib/python3.9/site-packages (from ipython>=4.0.0->ipywidgets) (5.1.0)\n",
      "Requirement already satisfied: pickleshare in /shared/ifbstor1/software/jupyterhub/lib/python3.9/site-packages (from ipython>=4.0.0->ipywidgets) (0.7.5)\n",
      "Requirement already satisfied: jsonschema!=2.5.0,>=2.4 in /shared/ifbstor1/software/jupyterhub/lib/python3.9/site-packages (from nbformat>=4.2.0->ipywidgets) (4.1.2)\n",
      "Requirement already satisfied: jupyter-core in /shared/ifbstor1/software/jupyterhub/lib/python3.9/site-packages (from nbformat>=4.2.0->ipywidgets) (4.9.1)\n",
      "Requirement already satisfied: notebook>=4.4.1 in /shared/ifbstor1/software/jupyterhub/lib/python3.9/site-packages (from widgetsnbextension~=3.5.0->ipywidgets) (6.4.5)\n",
      "Requirement already satisfied: parso<0.9.0,>=0.8.0 in /shared/ifbstor1/software/jupyterhub/lib/python3.9/site-packages (from jedi>=0.16->ipython>=4.0.0->ipywidgets) (0.8.2)\n",
      "Requirement already satisfied: attrs>=17.4.0 in /shared/ifbstor1/software/jupyterhub/lib/python3.9/site-packages (from jsonschema!=2.5.0,>=2.4->nbformat>=4.2.0->ipywidgets) (21.2.0)\n",
      "Requirement already satisfied: pyrsistent!=0.17.0,!=0.17.1,!=0.17.2,>=0.14.0 in /shared/ifbstor1/software/jupyterhub/lib/python3.9/site-packages (from jsonschema!=2.5.0,>=2.4->nbformat>=4.2.0->ipywidgets) (0.17.3)\n",
      "Requirement already satisfied: nest-asyncio>=1.5 in /shared/ifbstor1/software/jupyterhub/lib/python3.9/site-packages (from jupyter-client<8.0->ipykernel>=4.5.1->ipywidgets) (1.5.1)\n",
      "Requirement already satisfied: entrypoints in /shared/ifbstor1/software/jupyterhub/lib/python3.9/site-packages (from jupyter-client<8.0->ipykernel>=4.5.1->ipywidgets) (0.3)\n",
      "Requirement already satisfied: python-dateutil>=2.1 in /shared/ifbstor1/software/jupyterhub/lib/python3.9/site-packages (from jupyter-client<8.0->ipykernel>=4.5.1->ipywidgets) (2.8.2)\n",
      "Requirement already satisfied: pyzmq>=13 in /shared/ifbstor1/software/jupyterhub/lib/python3.9/site-packages (from jupyter-client<8.0->ipykernel>=4.5.1->ipywidgets) (22.3.0)\n",
      "Requirement already satisfied: nbconvert in /shared/ifbstor1/software/jupyterhub/lib/python3.9/site-packages (from notebook>=4.4.1->widgetsnbextension~=3.5.0->ipywidgets) (6.2.0)\n",
      "Requirement already satisfied: terminado>=0.8.3 in /shared/ifbstor1/software/jupyterhub/lib/python3.9/site-packages (from notebook>=4.4.1->widgetsnbextension~=3.5.0->ipywidgets) (0.12.1)\n",
      "Requirement already satisfied: Send2Trash>=1.5.0 in /shared/ifbstor1/software/jupyterhub/lib/python3.9/site-packages (from notebook>=4.4.1->widgetsnbextension~=3.5.0->ipywidgets) (1.8.0)\n",
      "Requirement already satisfied: jinja2 in /shared/ifbstor1/software/jupyterhub/lib/python3.9/site-packages (from notebook>=4.4.1->widgetsnbextension~=3.5.0->ipywidgets) (3.0.2)\n",
      "Requirement already satisfied: prometheus-client in /shared/ifbstor1/software/jupyterhub/lib/python3.9/site-packages (from notebook>=4.4.1->widgetsnbextension~=3.5.0->ipywidgets) (0.12.0)\n",
      "Requirement already satisfied: argon2-cffi in /shared/ifbstor1/software/jupyterhub/lib/python3.9/site-packages (from notebook>=4.4.1->widgetsnbextension~=3.5.0->ipywidgets) (21.1.0)\n",
      "Requirement already satisfied: ptyprocess>=0.5 in /shared/ifbstor1/software/jupyterhub/lib/python3.9/site-packages (from pexpect>4.3->ipython>=4.0.0->ipywidgets) (0.7.0)\n",
      "Requirement already satisfied: wcwidth in /shared/ifbstor1/software/jupyterhub/lib/python3.9/site-packages (from prompt-toolkit!=3.0.0,!=3.0.1,<3.1.0,>=2.0.0->ipython>=4.0.0->ipywidgets) (0.2.5)\n",
      "Requirement already satisfied: six>=1.5 in /shared/ifbstor1/software/jupyterhub/lib/python3.9/site-packages (from python-dateutil>=2.1->jupyter-client<8.0->ipykernel>=4.5.1->ipywidgets) (1.16.0)\n",
      "Requirement already satisfied: cffi>=1.0.0 in /shared/ifbstor1/software/jupyterhub/lib/python3.9/site-packages (from argon2-cffi->notebook>=4.4.1->widgetsnbextension~=3.5.0->ipywidgets) (1.14.6)\n",
      "Requirement already satisfied: MarkupSafe>=2.0 in /shared/ifbstor1/software/jupyterhub/lib/python3.9/site-packages (from jinja2->notebook>=4.4.1->widgetsnbextension~=3.5.0->ipywidgets) (2.0.1)\n",
      "Requirement already satisfied: bleach in /shared/ifbstor1/software/jupyterhub/lib/python3.9/site-packages (from nbconvert->notebook>=4.4.1->widgetsnbextension~=3.5.0->ipywidgets) (4.1.0)\n",
      "Requirement already satisfied: nbclient<0.6.0,>=0.5.0 in /shared/ifbstor1/software/jupyterhub/lib/python3.9/site-packages (from nbconvert->notebook>=4.4.1->widgetsnbextension~=3.5.0->ipywidgets) (0.5.4)\n",
      "Requirement already satisfied: jupyterlab-pygments in /shared/ifbstor1/software/jupyterhub/lib/python3.9/site-packages (from nbconvert->notebook>=4.4.1->widgetsnbextension~=3.5.0->ipywidgets) (0.1.2)\n",
      "Requirement already satisfied: testpath in /shared/ifbstor1/software/jupyterhub/lib/python3.9/site-packages (from nbconvert->notebook>=4.4.1->widgetsnbextension~=3.5.0->ipywidgets) (0.5.0)\n",
      "Requirement already satisfied: mistune<2,>=0.8.1 in /shared/ifbstor1/software/jupyterhub/lib/python3.9/site-packages (from nbconvert->notebook>=4.4.1->widgetsnbextension~=3.5.0->ipywidgets) (0.8.4)\n",
      "Requirement already satisfied: defusedxml in /shared/ifbstor1/software/jupyterhub/lib/python3.9/site-packages (from nbconvert->notebook>=4.4.1->widgetsnbextension~=3.5.0->ipywidgets) (0.7.1)\n",
      "Requirement already satisfied: pandocfilters>=1.4.1 in /shared/ifbstor1/software/jupyterhub/lib/python3.9/site-packages (from nbconvert->notebook>=4.4.1->widgetsnbextension~=3.5.0->ipywidgets) (1.5.0)\n",
      "Requirement already satisfied: pycparser in /shared/ifbstor1/software/jupyterhub/lib/python3.9/site-packages (from cffi>=1.0.0->argon2-cffi->notebook>=4.4.1->widgetsnbextension~=3.5.0->ipywidgets) (2.20)\n",
      "Requirement already satisfied: webencodings in /shared/ifbstor1/software/jupyterhub/lib/python3.9/site-packages (from bleach->nbconvert->notebook>=4.4.1->widgetsnbextension~=3.5.0->ipywidgets) (0.5.1)\n",
      "Requirement already satisfied: packaging in /shared/ifbstor1/software/jupyterhub/lib/python3.9/site-packages (from bleach->nbconvert->notebook>=4.4.1->widgetsnbextension~=3.5.0->ipywidgets) (21.0)\n",
      "Requirement already satisfied: pyparsing>=2.0.2 in /shared/ifbstor1/software/jupyterhub/lib/python3.9/site-packages (from packaging->bleach->nbconvert->notebook>=4.4.1->widgetsnbextension~=3.5.0->ipywidgets) (3.0.4)\n"
     ]
    }
   ],
   "source": [
    "!pip install ipycytoscape\n",
    "!pip install ipywidgets"
   ]
  },
  {
   "cell_type": "code",
   "execution_count": 5,
   "id": "e53ffe95-93e1-4d32-839a-328563111828",
   "metadata": {},
   "outputs": [],
   "source": [
    "import ipycytoscape\n",
    "import ipywidgets as widgets"
   ]
  },
  {
   "cell_type": "code",
   "execution_count": null,
   "id": "1979e763-18bf-450e-ac4a-9dabec5bb9fe",
   "metadata": {},
   "outputs": [],
   "source": [
    "cytoscapeobj = ipycytoscape.CytoscapeWidget()"
   ]
  },
  {
   "cell_type": "code",
   "execution_count": null,
   "id": "da1fb99e-62dd-4a98-adfc-abcaa185528b",
   "metadata": {},
   "outputs": [],
   "source": [
    "cytoscapeobj.graph.add_graph_from_networkx(G)"
   ]
  },
  {
   "cell_type": "code",
   "execution_count": null,
   "id": "297ce429-eadd-47c3-8b89-038fcc80d7a2",
   "metadata": {},
   "outputs": [
    {
     "data": {
      "text/plain": [
       "Graph(edges=[Edge(data={'source': 'SCN5A_HUMAN', 'target': 'SCN5A_HUMAN', 'nbExperiments': '2'}), Edge(data={'…"
      ]
     },
     "metadata": {},
     "output_type": "display_data"
    }
   ],
   "source": [
    "cytoscapeobj.graph"
   ]
  },
  {
   "cell_type": "code",
   "execution_count": null,
   "id": "90b179a1-8edb-4fff-b32f-d675153b4ba5",
   "metadata": {},
   "outputs": [
    {
     "data": {
      "application/vnd.jupyter.widget-view+json": {
       "model_id": "f03055b78f804ac380e2ef8fec632928",
       "version_major": 2,
       "version_minor": 0
      },
      "text/plain": [
       "CytoscapeWidget(cytoscape_layout={'name': 'cola'}, cytoscape_style=[{'selector': 'node', 'css': {'background-c…"
      ]
     },
     "metadata": {},
     "output_type": "display_data"
    }
   ],
   "source": [
    "cytoscapeobj"
   ]
  },
  {
   "cell_type": "code",
   "execution_count": null,
   "id": "5ad3b311-ade0-4875-a104-ad186e82c2a0",
   "metadata": {},
   "outputs": [
    {
     "name": "stdout",
     "output_type": "stream",
     "text": [
      "Defaulting to user installation because normal site-packages is not writeable\n",
      "Requirement already satisfied: ipywidgets in /shared/ifbstor1/home/tdenecker/.local/lib/python3.9/site-packages (8.0.4)\n",
      "Requirement already satisfied: ipython>=6.1.0 in /shared/ifbstor1/software/jupyterhub/lib/python3.9/site-packages (from ipywidgets) (7.29.0)\n",
      "Requirement already satisfied: widgetsnbextension~=4.0 in /shared/ifbstor1/home/tdenecker/.local/lib/python3.9/site-packages (from ipywidgets) (4.0.5)\n",
      "Requirement already satisfied: ipykernel>=4.5.1 in /shared/ifbstor1/software/jupyterhub/lib/python3.9/site-packages (from ipywidgets) (6.4.2)\n",
      "Requirement already satisfied: traitlets>=4.3.1 in /shared/ifbstor1/software/jupyterhub/lib/python3.9/site-packages (from ipywidgets) (5.1.1)\n",
      "Requirement already satisfied: jupyterlab-widgets~=3.0 in /shared/ifbstor1/home/tdenecker/.local/lib/python3.9/site-packages (from ipywidgets) (3.0.5)\n",
      "Requirement already satisfied: debugpy<2.0,>=1.0.0 in /shared/ifbstor1/software/jupyterhub/lib/python3.9/site-packages (from ipykernel>=4.5.1->ipywidgets) (1.4.1)\n",
      "Requirement already satisfied: tornado<7.0,>=4.2 in /shared/ifbstor1/software/jupyterhub/lib/python3.9/site-packages (from ipykernel>=4.5.1->ipywidgets) (6.1)\n",
      "Requirement already satisfied: matplotlib-inline<0.2.0,>=0.1.0 in /shared/ifbstor1/software/jupyterhub/lib/python3.9/site-packages (from ipykernel>=4.5.1->ipywidgets) (0.1.3)\n",
      "Requirement already satisfied: ipython-genutils in /shared/ifbstor1/software/jupyterhub/lib/python3.9/site-packages (from ipykernel>=4.5.1->ipywidgets) (0.2.0)\n",
      "Requirement already satisfied: jupyter-client<8.0 in /shared/ifbstor1/software/jupyterhub/lib/python3.9/site-packages (from ipykernel>=4.5.1->ipywidgets) (7.0.6)\n",
      "Requirement already satisfied: setuptools>=18.5 in /shared/ifbstor1/software/jupyterhub/lib/python3.9/site-packages (from ipython>=6.1.0->ipywidgets) (58.4.0)\n",
      "Requirement already satisfied: backcall in /shared/ifbstor1/software/jupyterhub/lib/python3.9/site-packages (from ipython>=6.1.0->ipywidgets) (0.2.0)\n",
      "Requirement already satisfied: pygments in /shared/ifbstor1/software/jupyterhub/lib/python3.9/site-packages (from ipython>=6.1.0->ipywidgets) (2.10.0)\n",
      "Requirement already satisfied: jedi>=0.16 in /shared/ifbstor1/software/jupyterhub/lib/python3.9/site-packages (from ipython>=6.1.0->ipywidgets) (0.18.0)\n",
      "Requirement already satisfied: pexpect>4.3 in /shared/ifbstor1/software/jupyterhub/lib/python3.9/site-packages (from ipython>=6.1.0->ipywidgets) (4.8.0)\n",
      "Requirement already satisfied: pickleshare in /shared/ifbstor1/software/jupyterhub/lib/python3.9/site-packages (from ipython>=6.1.0->ipywidgets) (0.7.5)\n",
      "Requirement already satisfied: prompt-toolkit!=3.0.0,!=3.0.1,<3.1.0,>=2.0.0 in /shared/ifbstor1/software/jupyterhub/lib/python3.9/site-packages (from ipython>=6.1.0->ipywidgets) (3.0.21)\n",
      "Requirement already satisfied: decorator in /shared/ifbstor1/software/jupyterhub/lib/python3.9/site-packages (from ipython>=6.1.0->ipywidgets) (5.1.0)\n",
      "Requirement already satisfied: parso<0.9.0,>=0.8.0 in /shared/ifbstor1/software/jupyterhub/lib/python3.9/site-packages (from jedi>=0.16->ipython>=6.1.0->ipywidgets) (0.8.2)\n",
      "Requirement already satisfied: entrypoints in /shared/ifbstor1/software/jupyterhub/lib/python3.9/site-packages (from jupyter-client<8.0->ipykernel>=4.5.1->ipywidgets) (0.3)\n",
      "Requirement already satisfied: pyzmq>=13 in /shared/ifbstor1/software/jupyterhub/lib/python3.9/site-packages (from jupyter-client<8.0->ipykernel>=4.5.1->ipywidgets) (22.3.0)\n",
      "Requirement already satisfied: python-dateutil>=2.1 in /shared/ifbstor1/software/jupyterhub/lib/python3.9/site-packages (from jupyter-client<8.0->ipykernel>=4.5.1->ipywidgets) (2.8.2)\n",
      "Requirement already satisfied: nest-asyncio>=1.5 in /shared/ifbstor1/software/jupyterhub/lib/python3.9/site-packages (from jupyter-client<8.0->ipykernel>=4.5.1->ipywidgets) (1.5.1)\n",
      "Requirement already satisfied: jupyter-core>=4.6.0 in /shared/ifbstor1/software/jupyterhub/lib/python3.9/site-packages (from jupyter-client<8.0->ipykernel>=4.5.1->ipywidgets) (4.9.1)\n",
      "Requirement already satisfied: ptyprocess>=0.5 in /shared/ifbstor1/software/jupyterhub/lib/python3.9/site-packages (from pexpect>4.3->ipython>=6.1.0->ipywidgets) (0.7.0)\n",
      "Requirement already satisfied: wcwidth in /shared/ifbstor1/software/jupyterhub/lib/python3.9/site-packages (from prompt-toolkit!=3.0.0,!=3.0.1,<3.1.0,>=2.0.0->ipython>=6.1.0->ipywidgets) (0.2.5)\n",
      "Requirement already satisfied: six>=1.5 in /shared/ifbstor1/software/jupyterhub/lib/python3.9/site-packages (from python-dateutil>=2.1->jupyter-client<8.0->ipykernel>=4.5.1->ipywidgets) (1.16.0)\n"
     ]
    },
    {
     "data": {
      "application/vnd.jupyter.widget-view+json": {
       "model_id": "81c1a866b5574b6ebd559ba2d6829c2c",
       "version_major": 2,
       "version_minor": 0
      },
      "text/plain": [
       "CytoscapeWidget(cytoscape_layout={'name': 'cola'}, cytoscape_style=[{'selector': 'node', 'css': {'background-c…"
      ]
     },
     "metadata": {},
     "output_type": "display_data"
    }
   ],
   "source": [
    "!pip install ipywidgets --upgrade\n",
    "from ipycytoscape import CytoscapeWidget\n",
    "import networkx as nx\n",
    "G = nx.complete_graph(5)\n",
    "cyto = CytoscapeWidget()\n",
    "cyto.graph.add_graph_from_networkx(G)\n",
    "display(cyto)"
   ]
  },
  {
   "cell_type": "code",
   "execution_count": null,
   "id": "c4cddf69-fdae-4c8d-a4df-1447a9732627",
   "metadata": {},
   "outputs": [],
   "source": []
  }
 ],
 "metadata": {
  "kernelspec": {
   "display_name": "python3.9",
   "language": "python",
   "name": "python3.9"
  },
  "language_info": {
   "codemirror_mode": {
    "name": "ipython",
    "version": 3
   },
   "file_extension": ".py",
   "mimetype": "text/x-python",
   "name": "python",
   "nbconvert_exporter": "python",
   "pygments_lexer": "ipython3",
   "version": "3.10.6"
  }
 },
 "nbformat": 4,
 "nbformat_minor": 5
}
