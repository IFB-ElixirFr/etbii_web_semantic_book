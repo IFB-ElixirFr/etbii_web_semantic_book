{
 "cells": [
  {
   "cell_type": "markdown",
   "id": "6a8d6ded-a053-498e-b4a4-0906efd54d08",
   "metadata": {},
   "source": [
    "# Theory"
   ]
  },
  {
   "cell_type": "code",
   "execution_count": 1,
   "id": "45d0277f-83c1-4c8f-945b-64cc29beb4e4",
   "metadata": {
    "tags": [
     "remove-input"
    ]
   },
   "outputs": [
    {
     "data": {
      "text/html": [
       "\n",
       "<iframe\n",
       "    width=\"100%\"\n",
       "    height=\"500\"\n",
       "    src=\"_static/Theorie_web_semantique.pdf\"\n",
       "    frameborder=\"0\"\n",
       "    allowfullscreen\n",
       "\n",
       "></iframe>\n"
      ],
      "text/plain": [
       "<IPython.lib.display.IFrame at 0x2b1e12e26fb0>"
      ]
     },
     "execution_count": 1,
     "metadata": {},
     "output_type": "execute_result"
    }
   ],
   "source": [
    "from IPython.display import IFrame\n",
    "IFrame(\"_static/Theorie_web_semantique.pdf\", width=\"100%\", height=500)\n"
   ]
  },
  {
   "cell_type": "code",
   "execution_count": null,
   "id": "c9cf466a-02fb-4f8c-92c8-a82630958638",
   "metadata": {},
   "outputs": [],
   "source": []
  }
 ],
 "metadata": {
  "kernelspec": {
   "display_name": "Python 3 (ipykernel)",
   "language": "python",
   "name": "python3"
  },
  "language_info": {
   "codemirror_mode": {
    "name": "ipython",
    "version": 3
   },
   "file_extension": ".py",
   "mimetype": "text/x-python",
   "name": "python",
   "nbconvert_exporter": "python",
   "pygments_lexer": "ipython3",
   "version": "3.10.6"
  }
 },
 "nbformat": 4,
 "nbformat_minor": 5
}